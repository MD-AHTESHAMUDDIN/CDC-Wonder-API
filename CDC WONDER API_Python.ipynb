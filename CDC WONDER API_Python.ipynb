{
 "cells": [
  {
   "cell_type": "code",
   "execution_count": null,
   "id": "c0fec400",
   "metadata": {},
   "outputs": [],
   "source": [
    "!pip install selenium\n",
    "from selenium import webdriver\n",
    "import time\n",
    "from selenium.webdriver.support.ui import Select\n",
    "\n",
    "from selenium.webdriver.support.ui import WebDriverWait\n",
    "from selenium.webdriver.support import expected_conditions as EC\n",
    "from selenium.webdriver.common.by import By\n",
    "\n",
    "import os\n",
    "cwd = os.getcwd()\n",
    "print(cwd)\n",
    "\n",
    "chromeOptions = webdriver.ChromeOptions()\n",
    "prefs = {\"download.default_directory\" : r\"C:\\Users\\ahtes\\OneDrive\\Desktop\\CDC\"}\n",
    "chromeOptions.add_experimental_option(\"prefs\",prefs)\n",
    "\n",
    "file_path = r'C:\\Users\\ahtes\\Downloads\\CDC_WONDER_LINKS.txt'\n",
    "with open(file_path, 'r') as file:\n",
    "    links = file.readlines()\n",
    "    \n",
    "https_links = [link.strip() for link in links if link.strip().startswith('https')]\n",
    "print(https_links)\n",
    "\n",
    "from selenium import webdriver\n",
    "import time\n",
    "\n",
    "file_path = r'C:\\Users\\ahtes\\Downloads\\CDC_WONDER_LINKS.txt'\n",
    "with open(file_path, 'r') as file:\n",
    "    links = file.readlines()\n",
    "\n",
    "https_links = [link.strip() for link in links if link.strip().startswith('https')]\n",
    "\n",
    "for link in https_links:\n",
    "    driver = webdriver.Chrome(executable_path=r'C:\\Users\\ahtes\\Downloads\\chromedriver.exe')\n",
    "    driver.get(link)\n",
    "\n",
    "    time.sleep(5) # Time delay for the web page to load before accessing the frame\n",
    "\n",
    "    # Find and click the \"I Agree\" button\n",
    "    driver.find_element(\"xpath\", \".//input[@name='action-I Agree']\").click()\n",
    "\n",
    "    time.sleep(5) # Time delay for the web page to load before accessing the frame\n",
    "\n",
    "    # Find and click the \"Export\" button\n",
    "    driver.find_element(\"xpath\", \".//input[@value='Export']\").click()\n",
    "\n",
    "    time.sleep(25)\n",
    "\n",
    "    # Close the browser\n",
    "    driver.quit()\n"
   ]
  }
 ],
 "metadata": {
  "kernelspec": {
   "display_name": "Python 3 (ipykernel)",
   "language": "python",
   "name": "python3"
  },
  "language_info": {
   "codemirror_mode": {
    "name": "ipython",
    "version": 3
   },
   "file_extension": ".py",
   "mimetype": "text/x-python",
   "name": "python",
   "nbconvert_exporter": "python",
   "pygments_lexer": "ipython3",
   "version": "3.9.13"
  }
 },
 "nbformat": 4,
 "nbformat_minor": 5
}
