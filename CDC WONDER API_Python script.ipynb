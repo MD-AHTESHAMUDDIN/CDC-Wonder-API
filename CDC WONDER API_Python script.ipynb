{
 "cells": [
  {
   "cell_type": "code",
   "execution_count": 2,
   "id": "10feb4d6",
   "metadata": {
    "tags": []
   },
   "outputs": [
    {
     "name": "stdout",
     "output_type": "stream",
     "text": [
      "Defaulting to user installation because normal site-packages is not writeableC:\\Users\\ahtes\\Downloads\n",
      "\n",
      "Requirement already satisfied: selenium in c:\\users\\ahtes\\appdata\\roaming\\python\\python39\\site-packages (4.8.2)\n",
      "Requirement already satisfied: certifi>=2021.10.8 in c:\\programdata\\anaconda3\\lib\\site-packages (from selenium) (2022.9.14)\n",
      "Requirement already satisfied: urllib3[socks]~=1.26 in c:\\programdata\\anaconda3\\lib\\site-packages (from selenium) (1.26.11)\n",
      "Requirement already satisfied: trio-websocket~=0.9 in c:\\users\\ahtes\\appdata\\roaming\\python\\python39\\site-packages (from selenium) (0.9.2)\n",
      "Requirement already satisfied: trio~=0.17 in c:\\users\\ahtes\\appdata\\roaming\\python\\python39\\site-packages (from selenium) (0.22.0)\n",
      "Requirement already satisfied: sniffio in c:\\programdata\\anaconda3\\lib\\site-packages (from trio~=0.17->selenium) (1.2.0)\n",
      "Requirement already satisfied: outcome in c:\\users\\ahtes\\appdata\\roaming\\python\\python39\\site-packages (from trio~=0.17->selenium) (1.2.0)\n",
      "Requirement already satisfied: exceptiongroup>=1.0.0rc9 in c:\\users\\ahtes\\appdata\\roaming\\python\\python39\\site-packages (from trio~=0.17->selenium) (1.1.0)\n",
      "Requirement already satisfied: cffi>=1.14 in c:\\programdata\\anaconda3\\lib\\site-packages (from trio~=0.17->selenium) (1.15.1)\n",
      "Requirement already satisfied: async-generator>=1.9 in c:\\users\\ahtes\\appdata\\roaming\\python\\python39\\site-packages (from trio~=0.17->selenium) (1.10)\n",
      "Requirement already satisfied: attrs>=19.2.0 in c:\\programdata\\anaconda3\\lib\\site-packages (from trio~=0.17->selenium) (21.4.0)\n",
      "Requirement already satisfied: idna in c:\\programdata\\anaconda3\\lib\\site-packages (from trio~=0.17->selenium) (3.3)\n",
      "Requirement already satisfied: sortedcontainers in c:\\programdata\\anaconda3\\lib\\site-packages (from trio~=0.17->selenium) (2.4.0)\n",
      "Requirement already satisfied: wsproto>=0.14 in c:\\users\\ahtes\\appdata\\roaming\\python\\python39\\site-packages (from trio-websocket~=0.9->selenium) (1.2.0)\n",
      "Requirement already satisfied: PySocks!=1.5.7,<2.0,>=1.5.6 in c:\\programdata\\anaconda3\\lib\\site-packages (from urllib3[socks]~=1.26->selenium) (1.7.1)\n",
      "Requirement already satisfied: pycparser in c:\\programdata\\anaconda3\\lib\\site-packages (from cffi>=1.14->trio~=0.17->selenium) (2.21)\n",
      "Requirement already satisfied: h11<1,>=0.9.0 in c:\\users\\ahtes\\appdata\\roaming\\python\\python39\\site-packages (from wsproto>=0.14->trio-websocket~=0.9->selenium) (0.14.0)\n"
     ]
    }
   ],
   "source": [
    "!pip install selenium\n",
    "from selenium import webdriver\n",
    "import time\n",
    "from selenium.webdriver.support.ui import Select\n",
    "\n",
    "from selenium.webdriver.support.ui import WebDriverWait\n",
    "from selenium.webdriver.support import expected_conditions as EC\n",
    "from selenium.webdriver.common.by import By\n",
    "\n",
    "import os\n",
    "cwd = os.getcwd()\n",
    "print(cwd)"
   ]
  },
  {
   "cell_type": "code",
   "execution_count": 6,
   "id": "a03940da",
   "metadata": {
    "tags": []
   },
   "outputs": [],
   "source": [
    "chromeOptions = webdriver.ChromeOptions()\n",
    "prefs = {\"download.default_directory\" : r\"C:\\Users\\ahtes\\OneDrive\\Desktop\\CDC\"}\n",
    "chromeOptions.add_experimental_option(\"prefs\",prefs)"
   ]
  },
  {
   "cell_type": "code",
   "execution_count": 7,
   "id": "02495de2-24f7-4a7a-b49c-7417e4bd71a8",
   "metadata": {
    "tags": []
   },
   "outputs": [],
   "source": [
    "file_path = r'C:\\Users\\ahtes\\Downloads\\CDC_WONDER_LINKS.txt'\n",
    "with open(file_path, 'r') as file:\n",
    "    links = file.readlines()\n"
   ]
  },
  {
   "cell_type": "code",
   "execution_count": 8,
   "id": "be332b85-d505-4c52-804b-dc7491baf000",
   "metadata": {
    "tags": []
   },
   "outputs": [
    {
     "name": "stdout",
     "output_type": "stream",
     "text": [
      "['https://wonder.cdc.gov/controller/saved/D158/D359F907', 'https://wonder.cdc.gov/controller/saved/D158/D359F909', 'https://wonder.cdc.gov/controller/saved/D158/D359F910', 'https://wonder.cdc.gov/controller/saved/D158/D359F911', 'https://wonder.cdc.gov/controller/saved/D158/D359F913', 'https://wonder.cdc.gov/controller/saved/D158/D359F914', 'https://wonder.cdc.gov/controller/saved/D158/D359F915', 'https://wonder.cdc.gov/controller/saved/D158/D359F916', 'https://wonder.cdc.gov/controller/saved/D158/D359F922', 'https://wonder.cdc.gov/controller/saved/D158/D359F924', 'https://wonder.cdc.gov/controller/saved/D158/D359F927', 'https://wonder.cdc.gov/controller/saved/D158/D359F930', 'https://wonder.cdc.gov/controller/saved/D158/D359F931', 'https://wonder.cdc.gov/controller/saved/D158/D359F934', 'https://wonder.cdc.gov/controller/saved/D158/D359F936', 'https://wonder.cdc.gov/controller/saved/D158/D359F938', 'https://wonder.cdc.gov/controller/saved/D158/D359F982', 'https://wonder.cdc.gov/controller/saved/D158/D359F983', 'https://wonder.cdc.gov/controller/saved/D158/D359F984', 'https://wonder.cdc.gov/controller/saved/D158/D359F985', 'https://wonder.cdc.gov/controller/saved/D158/D359F986', 'https://wonder.cdc.gov/controller/saved/D158/D359F987', 'https://wonder.cdc.gov/controller/saved/D158/D359F988', 'https://wonder.cdc.gov/controller/saved/D158/D359F989', 'https://wonder.cdc.gov/controller/saved/D158/D359F990', 'https://wonder.cdc.gov/controller/saved/D158/D359F991', 'https://wonder.cdc.gov/controller/saved/D158/D359F992', 'https://wonder.cdc.gov/controller/saved/D158/D359F993', 'https://wonder.cdc.gov/controller/saved/D158/D360F001', 'https://wonder.cdc.gov/controller/saved/D158/D360F002', 'https://wonder.cdc.gov/controller/saved/D158/D360F004', 'https://wonder.cdc.gov/controller/saved/D158/D360F005', 'https://wonder.cdc.gov/controller/saved/D158/D360F007', 'https://wonder.cdc.gov/controller/saved/D158/D360F008']\n"
     ]
    }
   ],
   "source": [
    "https_links = [link.strip() for link in links if link.strip().startswith('https')]\n",
    "print(https_links)"
   ]
  },
  {
   "cell_type": "code",
   "execution_count": null,
   "id": "ab5a8ef3",
   "metadata": {},
   "outputs": [],
   "source": []
  },
  {
   "cell_type": "code",
   "execution_count": null,
   "id": "642ee19d",
   "metadata": {
    "tags": []
   },
   "outputs": [],
   "source": []
  },
  {
   "cell_type": "code",
   "execution_count": 19,
   "id": "8028c20b",
   "metadata": {},
   "outputs": [
    {
     "name": "stderr",
     "output_type": "stream",
     "text": [
      "C:\\Users\\ahtes\\AppData\\Local\\Temp\\ipykernel_13616\\2284964433.py:11: DeprecationWarning: executable_path has been deprecated, please pass in a Service object\n",
      "  driver = webdriver.Chrome(executable_path=r'C:\\Users\\ahtes\\Downloads\\chromedriver.exe')\n"
     ]
    }
   ],
   "source": [
    "from selenium import webdriver\n",
    "import time\n",
    "\n",
    "file_path = r'C:\\Users\\ahtes\\Downloads\\CDC_WONDER_LINKS.txt'\n",
    "with open(file_path, 'r') as file:\n",
    "    links = file.readlines()\n",
    "\n",
    "https_links = [link.strip() for link in links if link.strip().startswith('https')]\n",
    "\n",
    "for link in https_links:\n",
    "    driver = webdriver.Chrome(executable_path=r'C:\\Users\\ahtes\\Downloads\\chromedriver.exe')\n",
    "    driver.get(link)\n",
    "\n",
    "    time.sleep(5) # Time delay for the web page to load before accessing the frame\n",
    "\n",
    "    # Find and click the \"I Agree\" button\n",
    "    driver.find_element(\"xpath\", \".//input[@name='action-I Agree']\").click()\n",
    "\n",
    "    time.sleep(5) # Time delay for the web page to load before accessing the frame\n",
    "\n",
    "    # Find and click the \"Export\" button\n",
    "    driver.find_element(\"xpath\", \".//input[@value='Export']\").click()\n",
    "\n",
    "    time.sleep(25)\n",
    "\n",
    "    # Close the browser\n",
    "    driver.quit()\n"
   ]
  },
  {
   "cell_type": "code",
   "execution_count": null,
   "id": "4397b25f",
   "metadata": {},
   "outputs": [],
   "source": []
  }
 ],
 "metadata": {
  "kernelspec": {
   "display_name": "Python 3 (ipykernel)",
   "language": "python",
   "name": "python3"
  },
  "language_info": {
   "codemirror_mode": {
    "name": "ipython",
    "version": 3
   },
   "file_extension": ".py",
   "mimetype": "text/x-python",
   "name": "python",
   "nbconvert_exporter": "python",
   "pygments_lexer": "ipython3",
   "version": "3.9.13"
  }
 },
 "nbformat": 4,
 "nbformat_minor": 5
}
